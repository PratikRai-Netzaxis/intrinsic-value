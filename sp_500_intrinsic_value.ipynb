{
 "metadata": {
  "language_info": {
   "codemirror_mode": {
    "name": "ipython",
    "version": 3
   },
   "file_extension": ".py",
   "mimetype": "text/x-python",
   "name": "python",
   "nbconvert_exporter": "python",
   "pygments_lexer": "ipython3",
   "version": "3.8.5-final"
  },
  "orig_nbformat": 2,
  "kernelspec": {
   "name": "python3",
   "display_name": "Python 3.8.5 64-bit",
   "metadata": {
    "interpreter": {
     "hash": "aee8b7b246df8f9039afb4144a1f6fd8d2ca17a180786b69acc140d282b71a49"
    }
   }
  }
 },
 "nbformat": 4,
 "nbformat_minor": 2,
 "cells": [
  {
   "source": [
    "### Import packages\n",
    "Import first all important packages"
   ],
   "cell_type": "markdown",
   "metadata": {}
  },
  {
   "cell_type": "code",
   "execution_count": 2,
   "metadata": {},
   "outputs": [],
   "source": [
    "import requests\n",
    "import pandas as pd\n",
    "from bs4 import BeautifulSoup\n",
    "from yahoo_fin import stock_info as si\n",
    "from yahoofinancials import YahooFinancials\n",
    "import pandas\n",
    "from csv import reader\n",
    "import datetime"
   ]
  },
  {
   "source": [
    "### Parse S&P 500 companies from wikipedia\n",
    "Parse all 500 companies from wikipedia, since there are no API to do this."
   ],
   "cell_type": "markdown",
   "metadata": {}
  },
  {
   "cell_type": "code",
   "execution_count": 3,
   "metadata": {},
   "outputs": [],
   "source": [
    "url = \"https://en.wikipedia.org/wiki/List_of_S%26P_500_companies\"\n",
    "r = requests.get(url)\n",
    "r_html = r.text\n",
    "soup = BeautifulSoup(r_html, 'html.parser')\n",
    "components_table = soup.find_all(id=\"constituents\")"
   ]
  },
  {
   "source": [
    "### Save all companies in csv\n",
    "Save all company tickers in a csv. This list of companies will be utilised later."
   ],
   "cell_type": "markdown",
   "metadata": {}
  },
  {
   "cell_type": "code",
   "execution_count": 4,
   "metadata": {},
   "outputs": [],
   "source": [
    "headers_html = soup.find_all(\"th\")\n",
    "df_columns = [item.text.rstrip(\"\\n\") for item in headers_html]\n",
    "components_headers = df_columns[:9]\n",
    "data_rows = components_table[0].find(\"tbody\").find_all(\"tr\")[1:]\n",
    "rows = []\n",
    "for row in range(len(data_rows)):\n",
    "    stock = list(filter(None, data_rows[row].text.split(\"\\n\")))\n",
    "    rows.append(stock)\n",
    "S_P_500_stocks = pd.DataFrame(rows, columns=components_headers)\n",
    "S_P_500_stocks.drop(\"SEC filings\", inplace=True, axis=1)\n",
    "S_P_500_stocks.to_csv(r\"./data/SP500stocks.csv\", index=False, encoding='utf-8')"
   ]
  },
  {
   "source": [
    "## Let's start value calculation now"
   ],
   "cell_type": "markdown",
   "metadata": {}
  },
  {
   "cell_type": "code",
   "execution_count": 5,
   "metadata": {},
   "outputs": [],
   "source": [
    "current_date = datetime.datetime.today().strftime('%d-%b-%Y')"
   ]
  },
  {
   "source": [
    "### Get the recommendation for a ticker\n",
    "This gets recommendation from yahoo finance.\n"
   ],
   "cell_type": "markdown",
   "metadata": {}
  },
  {
   "cell_type": "code",
   "execution_count": 6,
   "metadata": {},
   "outputs": [],
   "source": [
    "def get_recommendation_rating(ticker):\n",
    "    url = f'https://query2.finance.yahoo.com/v10/finance/quoteSummary/{ticker}?formatted=true&crumb=swg7qs5y9UP&lang=en-US&region=US&modules=upgradeDowngradeHistory,recommendationTrend,financialData,earningsHistory,earningsTrend,industryTrend&corsDomain=finance.yahoo.com'\n",
    "    r = requests.get(url)\n",
    "    if not r.ok:\n",
    "        recommendation = 6\n",
    "    try:\n",
    "        result = r.json()['quoteSummary']['result'][0]\n",
    "        recommendation = result['financialData']['recommendationMean']['fmt']\n",
    "    except:\n",
    "        recommendation = 6\n",
    "\n",
    "    print(\"{} has an average recommendation of: \".format(ticker), recommendation)\n",
    "    return recommendation"
   ]
  },
  {
   "cell_type": "code",
   "execution_count": null,
   "metadata": {},
   "outputs": [],
   "source": []
  }
 ]
}