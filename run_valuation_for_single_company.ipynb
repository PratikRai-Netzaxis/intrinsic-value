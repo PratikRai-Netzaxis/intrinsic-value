{
 "metadata": {
  "language_info": {
   "codemirror_mode": {
    "name": "ipython",
    "version": 3
   },
   "file_extension": ".py",
   "mimetype": "text/x-python",
   "name": "python",
   "nbconvert_exporter": "python",
   "pygments_lexer": "ipython3",
   "version": "3.8.5-final"
  },
  "orig_nbformat": 2,
  "kernelspec": {
   "name": "python3",
   "display_name": "Python 3.8.5 64-bit",
   "metadata": {
    "interpreter": {
     "hash": "aee8b7b246df8f9039afb4144a1f6fd8d2ca17a180786b69acc140d282b71a49"
    }
   }
  }
 },
 "nbformat": 4,
 "nbformat_minor": 2,
 "cells": [
  {
   "source": [
    "## Intrinsic value calculator for single company\n",
    "\n",
    "Here you can run the valuation for single company and find intrinsic value, potential upside and average recommendation of the company.\n",
    "\n",
    "**Please set the `ticker` and `company_name`**\n"
   ],
   "cell_type": "markdown",
   "metadata": {}
  },
  {
   "cell_type": "code",
   "execution_count": 1,
   "metadata": {},
   "outputs": [
    {
     "output_type": "stream",
     "name": "stdout",
     "text": [
      "\n    ==============================\n    AAPL\n    Stock price: 127.14\n    Intrinsic value: 108.62\n    Potential upside: -14.57\n    Average recommendation: 2.00\n    \n"
     ]
    }
   ],
   "source": [
    "from Stock import Stock\n",
    "from us_yield import get_10y_us_bond_yield\n",
    "\n",
    "ticker = 'AAPL'\n",
    "company_name = 'Apple'\n",
    "risk_free_return = get_10y_us_bond_yield()\n",
    "\n",
    "stock = Stock(ticker, company_name, risk_free_return)\n",
    "\n",
    "def print_stock_valuation(stock):\n",
    "    message = f\"\"\"\n",
    "    {stock.ticker}\n",
    "    Stock price: {stock.price}\n",
    "    Intrinsic value: {stock.intrinsic_value}\n",
    "    Potential upside: {stock.potential_upside}\n",
    "    Average recommendation: {stock.recommendation_rating}\n",
    "    \"\"\"\n",
    "    print(message)\n",
    "\n",
    "print_stock_valuation(stock)"
   ]
  },
  {
   "cell_type": "code",
   "execution_count": null,
   "metadata": {},
   "outputs": [],
   "source": []
  }
 ]
}